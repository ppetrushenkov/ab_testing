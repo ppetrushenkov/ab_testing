{
 "cells": [
  {
   "cell_type": "markdown",
   "metadata": {},
   "source": [
    "# A/A tests (2 / 3 part)"
   ]
  },
  {
   "cell_type": "markdown",
   "metadata": {},
   "source": [
    "## 3. Perform A/A testing\n",
    "When we doing some experimental tests (A/B tests), we want to know, that before the experiment our data is identical between groups. If the group data already differs, so what's the reason to do the tests?\n",
    "\n",
    "We want to know that our splitted data are identical to each other not just by seeing the data, but after we get some tests results. The main reason to do A/A test is to get statistical reason that our data are identical for now, before experiment."
   ]
  },
  {
   "cell_type": "code",
   "execution_count": 1,
   "metadata": {},
   "outputs": [],
   "source": [
    "from config import connection\n",
    "from scipy.stats import ttest_ind\n",
    "from scipy.stats import mannwhitneyu\n",
    "from aa_functions import run_aatest\n",
    "\n",
    "import numpy as np\n",
    "import pandas as pd\n",
    "import pandahouse as ph\n",
    "import seaborn as sns"
   ]
  },
  {
   "cell_type": "markdown",
   "metadata": {},
   "source": [
    "## 3.1 Get the data"
   ]
  },
  {
   "cell_type": "code",
   "execution_count": 2,
   "metadata": {},
   "outputs": [
    {
     "data": {
      "text/html": [
       "<div>\n",
       "<style scoped>\n",
       "    .dataframe tbody tr th:only-of-type {\n",
       "        vertical-align: middle;\n",
       "    }\n",
       "\n",
       "    .dataframe tbody tr th {\n",
       "        vertical-align: top;\n",
       "    }\n",
       "\n",
       "    .dataframe thead th {\n",
       "        text-align: right;\n",
       "    }\n",
       "</style>\n",
       "<table border=\"1\" class=\"dataframe\">\n",
       "  <thead>\n",
       "    <tr style=\"text-align: right;\">\n",
       "      <th></th>\n",
       "      <th>user_id</th>\n",
       "      <th>exp_group</th>\n",
       "      <th>ctr</th>\n",
       "    </tr>\n",
       "  </thead>\n",
       "  <tbody>\n",
       "    <tr>\n",
       "      <th>0</th>\n",
       "      <td>115383</td>\n",
       "      <td>3</td>\n",
       "      <td>0.305556</td>\n",
       "    </tr>\n",
       "    <tr>\n",
       "      <th>1</th>\n",
       "      <td>123580</td>\n",
       "      <td>3</td>\n",
       "      <td>0.163043</td>\n",
       "    </tr>\n",
       "    <tr>\n",
       "      <th>2</th>\n",
       "      <td>131473</td>\n",
       "      <td>2</td>\n",
       "      <td>0.175676</td>\n",
       "    </tr>\n",
       "    <tr>\n",
       "      <th>3</th>\n",
       "      <td>23985</td>\n",
       "      <td>2</td>\n",
       "      <td>0.181818</td>\n",
       "    </tr>\n",
       "    <tr>\n",
       "      <th>4</th>\n",
       "      <td>24523</td>\n",
       "      <td>2</td>\n",
       "      <td>0.141667</td>\n",
       "    </tr>\n",
       "  </tbody>\n",
       "</table>\n",
       "</div>"
      ],
      "text/plain": [
       "   user_id  exp_group       ctr\n",
       "0   115383          3  0.305556\n",
       "1   123580          3  0.163043\n",
       "2   131473          2  0.175676\n",
       "3    23985          2  0.181818\n",
       "4    24523          2  0.141667"
      ]
     },
     "execution_count": 2,
     "metadata": {},
     "output_type": "execute_result"
    }
   ],
   "source": [
    "# get the same data, as we did it in the 1st part\n",
    "first_date = '2022-07-06'\n",
    "last_date = '2022-07-12'\n",
    "\n",
    "metric = f\"\"\"\n",
    "    SELECT\n",
    "        user_id,\n",
    "        exp_group,\n",
    "        countIf(action='like') / countIf(action='view') as ctr\n",
    "    FROM\n",
    "        simulator_20220820.feed_actions\n",
    "    WHERE\n",
    "        toDate(time) between '{first_date}' and '{last_date}' AND\n",
    "        exp_group IN [2, 3]\n",
    "    GROUP BY\n",
    "        user_id, exp_group\n",
    "\"\"\"\n",
    "df = ph.read_clickhouse(metric, connection=connection)\n",
    "df.head()"
   ]
  },
  {
   "cell_type": "markdown",
   "metadata": {},
   "source": [
    "## 3.2 Do A/A test"
   ]
  },
  {
   "cell_type": "code",
   "execution_count": 3,
   "metadata": {},
   "outputs": [],
   "source": [
    "group1 = df[df['exp_group'] == 2]['ctr']\n",
    "group2 = df[df['exp_group'] == 3]['ctr']"
   ]
  },
  {
   "cell_type": "code",
   "execution_count": 4,
   "metadata": {},
   "outputs": [],
   "source": [
    "def check_with_ttest(a, b):\n",
    "    stat, p = ttest_ind(a, b, equal_var=False)\n",
    "    if p < 0.05:\n",
    "        print(\"[INFO] The p-value is less than 0.05, the data statistically differs\")\n",
    "        print(\"[INFO] Statistic: \", stat)\n",
    "        print(\"[INFO] P value: \", p)\n",
    "    else:\n",
    "        print(\"[INFO] The p-value is greater than 0.05, the data doesn't differs from each other\")\n",
    "        print(\"[INFO] Statistic: \", stat)\n",
    "        print(\"[INFO] P value: \", p)\n"
   ]
  },
  {
   "cell_type": "code",
   "execution_count": 5,
   "metadata": {},
   "outputs": [],
   "source": [
    "def check_with_mannwhitneyu(a, b):\n",
    "    stat, p = mannwhitneyu(a, b)\n",
    "    if p < 0.05:\n",
    "        print(\"[INFO] The p-value is less than 0.05, the data statistically differs\")\n",
    "        print(\"[INFO] Statistic: \", stat)\n",
    "        print(\"[INFO] P value: \", p)\n",
    "    else:\n",
    "        print(\"[INFO] The p-value is greater than 0.05, the data doesn't differs from each other\")\n",
    "        print(\"[INFO] Statistic: \", stat)\n",
    "        print(\"[INFO] P value: \", p)"
   ]
  },
  {
   "cell_type": "code",
   "execution_count": 6,
   "metadata": {},
   "outputs": [
    {
     "name": "stdout",
     "output_type": "stream",
     "text": [
      "[INFO] The p-value is greater than 0.05, the data doesn't differs from each other\n",
      "[INFO] Statistic:  -0.7393597924958364\n",
      "[INFO] P value:  0.45969873156476293\n"
     ]
    }
   ],
   "source": [
    "check_with_ttest(group1, group2)"
   ]
  },
  {
   "cell_type": "code",
   "execution_count": 7,
   "metadata": {},
   "outputs": [
    {
     "name": "stdout",
     "output_type": "stream",
     "text": [
      "[INFO] The p-value is greater than 0.05, the data doesn't differs from each other\n",
      "[INFO] Statistic:  36124728.5\n",
      "[INFO] P value:  0.5177480614337441\n"
     ]
    }
   ],
   "source": [
    "check_with_mannwhitneyu(group1, group2)"
   ]
  },
  {
   "cell_type": "markdown",
   "metadata": {},
   "source": [
    "## 3.3 Run many tests\n",
    "If we do our t-test many times (10k), supposed that our data are statistically identical, we should get statistically significant differences only that percent of times, as we set the threshold of p-value. For example, if we set p-value threshold to 0.05, we assume that we'll get significances in 5% of all experiments."
   ]
  },
  {
   "cell_type": "code",
   "execution_count": 8,
   "metadata": {},
   "outputs": [
    {
     "data": {
      "image/png": "[encoded data removed]",
      "text/plain": [
       "<Figure size 640x480 with 1 Axes>"
      ]
     },
     "metadata": {},
     "output_type": "display_data"
    },
    {
     "data": {
      "text/html": [
       "<div>\n",
       "<style scoped>\n",
       "    .dataframe tbody tr th:only-of-type {\n",
       "        vertical-align: middle;\n",
       "    }\n",
       "\n",
       "    .dataframe tbody tr th {\n",
       "        vertical-align: top;\n",
       "    }\n",
       "\n",
       "    .dataframe thead th {\n",
       "        text-align: right;\n",
       "    }\n",
       "</style>\n",
       "<table border=\"1\" class=\"dataframe\">\n",
       "  <thead>\n",
       "    <tr style=\"text-align: right;\">\n",
       "      <th></th>\n",
       "      <th>Result</th>\n",
       "    </tr>\n",
       "  </thead>\n",
       "  <tbody>\n",
       "    <tr>\n",
       "      <th>Full TTest Pvalue</th>\n",
       "      <td>0.46</td>\n",
       "    </tr>\n",
       "    <tr>\n",
       "      <th>Percent of tests lower 0.1 pvalue thresh</th>\n",
       "      <td>9.79</td>\n",
       "    </tr>\n",
       "    <tr>\n",
       "      <th>Percent of tests lower 0.05 pvalue thresh</th>\n",
       "      <td>4.55</td>\n",
       "    </tr>\n",
       "    <tr>\n",
       "      <th>Percent of tests lower 0.01 pvalue thresh</th>\n",
       "      <td>0.88</td>\n",
       "    </tr>\n",
       "  </tbody>\n",
       "</table>\n",
       "</div>"
      ],
      "text/plain": [
       "                                           Result\n",
       "Full TTest Pvalue                            0.46\n",
       "Percent of tests lower 0.1 pvalue thresh     9.79\n",
       "Percent of tests lower 0.05 pvalue thresh    4.55\n",
       "Percent of tests lower 0.01 pvalue thresh    0.88"
      ]
     },
     "execution_count": 8,
     "metadata": {},
     "output_type": "execute_result"
    }
   ],
   "source": [
    "run_aatest(group1, group2, n_tests=10000, n_samples=500)"
   ]
  },
  {
   "cell_type": "markdown",
   "metadata": {},
   "source": [
    "### What we did here:\n",
    "1. First of all we did T-test on 2 groups again and got the same result as before (0.46), which is greater than 0.05\n",
    "2. We ran 10k tests and for each test we took 500 samples from each group and T-tests them\n",
    "3. After that we have 10k p values. P values distribution is above. This means, if we run many tests, we'll get uniform distribution of chances to get different significances\n",
    "4. Calculate, how many tests showed a result less than the following thresholds: 0.1, 0.05, 0.01\n",
    "5. In Result table we see, that the threshold number is really close to its percent of number of tests. The number of P values, that lower 0.1 is 10% of data, for 0.05 is 5% of data and for 0.01 is 1% of data"
   ]
  }
 ],
 "metadata": {
  "kernelspec": {
   "display_name": "Python 3.8.13 ('analyst')",
   "language": "python",
   "name": "python3"
  },
  "language_info": {
   "codemirror_mode": {
    "name": "ipython",
    "version": 3
   },
   "file_extension": ".py",
   "mimetype": "text/x-python",
   "name": "python",
   "nbconvert_exporter": "python",
   "pygments_lexer": "ipython3",
   "version": "3.8.13"
  },
  "orig_nbformat": 4,
  "vscode": {
   "interpreter": {
    "hash": "cde3739259c449444df1e6140825f6ec4cbc44e516f641a09a72a5f8b58883e0"
   }
  }
 },
 "nbformat": 4,
 "nbformat_minor": 2
}
