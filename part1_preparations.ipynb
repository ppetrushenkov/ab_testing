{
 "cells": [
  {
   "cell_type": "markdown",
   "metadata": {},
   "source": [
    "# Choose the metric and split the data (1 / 3 part)"
   ]
  },
  {
   "cell_type": "code",
   "execution_count": 1,
   "metadata": {},
   "outputs": [],
   "source": [
    "from config import connection\n",
    "from typing import Union\n",
    "from hashlib import md5\n",
    "\n",
    "import pandas as pd\n",
    "import pandahouse as ph\n",
    "import seaborn as sns\n",
    "sns.set(rc={'figure.figsize':(8,6)})"
   ]
  },
  {
   "cell_type": "markdown",
   "metadata": {},
   "source": [
    "## 1. Decide, what metric should be increased?\n",
    "Suppose we want to check a new recomendation system, that it makes users click on 'like' button more times, than before. For that task we should use the CTR metric, that can be simply calculated as the count of likes divided by count of views, grouped by each user. How to split users by groups will be shown in the 2nd part, for now we already have users, splitted by different groups, so lets take 2 and 3 group only. \n",
    "\n"
   ]
  },
  {
   "cell_type": "code",
   "execution_count": 2,
   "metadata": {},
   "outputs": [],
   "source": [
    "# Date range before the experiment\n",
    "first_date = '2022-07-06'\n",
    "last_date = '2022-07-12'\n",
    "\n",
    "metric = f\"\"\"\n",
    "    SELECT\n",
    "        user_id,\n",
    "        exp_group,\n",
    "        countIf(action='like') / countIf(action='view') as ctr\n",
    "    FROM\n",
    "        simulator_20220820.feed_actions\n",
    "    WHERE\n",
    "        toDate(time) between '{first_date}' and '{last_date}' AND\n",
    "        exp_group IN [2, 3]\n",
    "    GROUP BY\n",
    "        user_id, exp_group\n",
    "\"\"\""
   ]
  },
  {
   "cell_type": "code",
   "execution_count": 3,
   "metadata": {},
   "outputs": [
    {
     "data": {
      "text/html": [
       "<div>\n",
       "<style scoped>\n",
       "    .dataframe tbody tr th:only-of-type {\n",
       "        vertical-align: middle;\n",
       "    }\n",
       "\n",
       "    .dataframe tbody tr th {\n",
       "        vertical-align: top;\n",
       "    }\n",
       "\n",
       "    .dataframe thead th {\n",
       "        text-align: right;\n",
       "    }\n",
       "</style>\n",
       "<table border=\"1\" class=\"dataframe\">\n",
       "  <thead>\n",
       "    <tr style=\"text-align: right;\">\n",
       "      <th></th>\n",
       "      <th>user_id</th>\n",
       "      <th>exp_group</th>\n",
       "      <th>ctr</th>\n",
       "    </tr>\n",
       "  </thead>\n",
       "  <tbody>\n",
       "    <tr>\n",
       "      <th>0</th>\n",
       "      <td>115383</td>\n",
       "      <td>3</td>\n",
       "      <td>0.305556</td>\n",
       "    </tr>\n",
       "    <tr>\n",
       "      <th>1</th>\n",
       "      <td>123580</td>\n",
       "      <td>3</td>\n",
       "      <td>0.163043</td>\n",
       "    </tr>\n",
       "    <tr>\n",
       "      <th>2</th>\n",
       "      <td>131473</td>\n",
       "      <td>2</td>\n",
       "      <td>0.175676</td>\n",
       "    </tr>\n",
       "    <tr>\n",
       "      <th>3</th>\n",
       "      <td>23985</td>\n",
       "      <td>2</td>\n",
       "      <td>0.181818</td>\n",
       "    </tr>\n",
       "    <tr>\n",
       "      <th>4</th>\n",
       "      <td>24523</td>\n",
       "      <td>2</td>\n",
       "      <td>0.141667</td>\n",
       "    </tr>\n",
       "  </tbody>\n",
       "</table>\n",
       "</div>"
      ],
      "text/plain": [
       "   user_id  exp_group       ctr\n",
       "0   115383          3  0.305556\n",
       "1   123580          3  0.163043\n",
       "2   131473          2  0.175676\n",
       "3    23985          2  0.181818\n",
       "4    24523          2  0.141667"
      ]
     },
     "execution_count": 3,
     "metadata": {},
     "output_type": "execute_result"
    }
   ],
   "source": [
    "df = ph.read_clickhouse(metric, connection=connection)\n",
    "df.head()"
   ]
  },
  {
   "cell_type": "code",
   "execution_count": 4,
   "metadata": {},
   "outputs": [
    {
     "data": {
      "image/png": "[encoded data removed]",
      "text/plain": [
       "<Figure size 800x600 with 1 Axes>"
      ]
     },
     "metadata": {},
     "output_type": "display_data"
    }
   ],
   "source": [
    "sns.histplot(\n",
    "    data=df,\n",
    "    x='ctr',\n",
    "    hue='exp_group',\n",
    "    palette = ['r', 'b'],\n",
    "    alpha=0.5,\n",
    "    kde=False\n",
    ");"
   ]
  },
  {
   "cell_type": "markdown",
   "metadata": {},
   "source": [
    "## 2. Manually split the data on groups\n",
    "Here will be shown the method how to split the data on different groups, using Python or Clickhouse. This step is optional as we have already different groups in our database, but we'll split the data just to be sure how it works."
   ]
  },
  {
   "cell_type": "code",
   "execution_count": 5,
   "metadata": {},
   "outputs": [],
   "source": [
    "def show_group_info(data: pd.DataFrame, groups: list = [2, 3]):\n",
    "    \"\"\"This method shows, how our data was splitted by groups \n",
    "    and shows distribution plot to check if our data seems identical\"\"\"\n",
    "    print(\"\\n[INFO] The experimental value counts group distribution:\")\n",
    "    print((data['exp_group'].value_counts(normalize=True).sort_index() * 100).to_frame().T)\n",
    "\n",
    "    # Get 2nd and 3rd groups (or whatever we choose)\n",
    "    data_by_groups = data[data['exp_group'].isin(groups)]\n",
    "    sns.histplot(\n",
    "        data=data_by_groups,\n",
    "        x='ctr',\n",
    "        hue='exp_group',\n",
    "        palette = ['r', 'b'],\n",
    "        alpha=0.5,\n",
    "        kde=False\n",
    "    );\n",
    "    return"
   ]
  },
  {
   "cell_type": "markdown",
   "metadata": {},
   "source": [
    "### 2.1. Python method"
   ]
  },
  {
   "cell_type": "code",
   "execution_count": 6,
   "metadata": {},
   "outputs": [],
   "source": [
    "# Python hash function\n",
    "def get_group(user_id: Union[int, str], salt: str = \"experiment\", n_groups: int = 5):\n",
    "    \"\"\"\n",
    "    Return group number for specified user_id. \n",
    "    The salt variable may be specified for different experiments.\n",
    "    \"\"\"\n",
    "    stack_id = str(user_id) + \"_\" + salt\n",
    "    md5_id = md5(stack_id.encode('ascii')).hexdigest()\n",
    "    hashed_id = int(md5_id, 16)\n",
    "    return hashed_id % n_groups"
   ]
  },
  {
   "cell_type": "code",
   "execution_count": 7,
   "metadata": {},
   "outputs": [
    {
     "data": {
      "text/html": [
       "<div>\n",
       "<style scoped>\n",
       "    .dataframe tbody tr th:only-of-type {\n",
       "        vertical-align: middle;\n",
       "    }\n",
       "\n",
       "    .dataframe tbody tr th {\n",
       "        vertical-align: top;\n",
       "    }\n",
       "\n",
       "    .dataframe thead th {\n",
       "        text-align: right;\n",
       "    }\n",
       "</style>\n",
       "<table border=\"1\" class=\"dataframe\">\n",
       "  <thead>\n",
       "    <tr style=\"text-align: right;\">\n",
       "      <th></th>\n",
       "      <th>user_id</th>\n",
       "      <th>ctr</th>\n",
       "    </tr>\n",
       "  </thead>\n",
       "  <tbody>\n",
       "    <tr>\n",
       "      <th>0</th>\n",
       "      <td>13289</td>\n",
       "      <td>0.127273</td>\n",
       "    </tr>\n",
       "    <tr>\n",
       "      <th>1</th>\n",
       "      <td>121096</td>\n",
       "      <td>0.287129</td>\n",
       "    </tr>\n",
       "    <tr>\n",
       "      <th>2</th>\n",
       "      <td>5090</td>\n",
       "      <td>0.378788</td>\n",
       "    </tr>\n",
       "    <tr>\n",
       "      <th>3</th>\n",
       "      <td>129283</td>\n",
       "      <td>0.117647</td>\n",
       "    </tr>\n",
       "    <tr>\n",
       "      <th>4</th>\n",
       "      <td>129995</td>\n",
       "      <td>0.236842</td>\n",
       "    </tr>\n",
       "  </tbody>\n",
       "</table>\n",
       "</div>"
      ],
      "text/plain": [
       "   user_id       ctr\n",
       "0    13289  0.127273\n",
       "1   121096  0.287129\n",
       "2     5090  0.378788\n",
       "3   129283  0.117647\n",
       "4   129995  0.236842"
      ]
     },
     "execution_count": 7,
     "metadata": {},
     "output_type": "execute_result"
    }
   ],
   "source": [
    "get_users_query = f\"\"\"\n",
    "SELECT\n",
    "    user_id,\n",
    "    countIf(action='like') / countIf(action='view') as ctr\n",
    "FROM\n",
    "    simulator_20220820.feed_actions\n",
    "WHERE\n",
    "    toDate(time) between '{first_date}' and '{last_date}'\n",
    "GROUP BY\n",
    "    user_id\n",
    "\"\"\"\n",
    "\n",
    "ctr_data = ph.read_clickhouse(get_users_query, connection=connection)\n",
    "ctr_data.head()"
   ]
  },
  {
   "cell_type": "code",
   "execution_count": 8,
   "metadata": {},
   "outputs": [
    {
     "data": {
      "text/html": [
       "<div>\n",
       "<style scoped>\n",
       "    .dataframe tbody tr th:only-of-type {\n",
       "        vertical-align: middle;\n",
       "    }\n",
       "\n",
       "    .dataframe tbody tr th {\n",
       "        vertical-align: top;\n",
       "    }\n",
       "\n",
       "    .dataframe thead th {\n",
       "        text-align: right;\n",
       "    }\n",
       "</style>\n",
       "<table border=\"1\" class=\"dataframe\">\n",
       "  <thead>\n",
       "    <tr style=\"text-align: right;\">\n",
       "      <th></th>\n",
       "      <th>user_id</th>\n",
       "      <th>ctr</th>\n",
       "      <th>exp_group</th>\n",
       "    </tr>\n",
       "  </thead>\n",
       "  <tbody>\n",
       "    <tr>\n",
       "      <th>0</th>\n",
       "      <td>13289</td>\n",
       "      <td>0.127273</td>\n",
       "      <td>1</td>\n",
       "    </tr>\n",
       "    <tr>\n",
       "      <th>1</th>\n",
       "      <td>121096</td>\n",
       "      <td>0.287129</td>\n",
       "      <td>2</td>\n",
       "    </tr>\n",
       "    <tr>\n",
       "      <th>2</th>\n",
       "      <td>5090</td>\n",
       "      <td>0.378788</td>\n",
       "      <td>3</td>\n",
       "    </tr>\n",
       "    <tr>\n",
       "      <th>3</th>\n",
       "      <td>129283</td>\n",
       "      <td>0.117647</td>\n",
       "      <td>2</td>\n",
       "    </tr>\n",
       "    <tr>\n",
       "      <th>4</th>\n",
       "      <td>129995</td>\n",
       "      <td>0.236842</td>\n",
       "      <td>3</td>\n",
       "    </tr>\n",
       "  </tbody>\n",
       "</table>\n",
       "</div>"
      ],
      "text/plain": [
       "   user_id       ctr  exp_group\n",
       "0    13289  0.127273          1\n",
       "1   121096  0.287129          2\n",
       "2     5090  0.378788          3\n",
       "3   129283  0.117647          2\n",
       "4   129995  0.236842          3"
      ]
     },
     "execution_count": 8,
     "metadata": {},
     "output_type": "execute_result"
    }
   ],
   "source": [
    "# Split on groups using Python function and Pandas apply method\n",
    "ctr_data['exp_group'] = ctr_data['user_id'].apply(get_group)\n",
    "ctr_data.head()"
   ]
  },
  {
   "cell_type": "code",
   "execution_count": 9,
   "metadata": {},
   "outputs": [
    {
     "name": "stdout",
     "output_type": "stream",
     "text": [
      "\n",
      "[INFO] The experimental value counts group distribution:\n",
      "                   0         1          2          3          4\n",
      "exp_group  19.896677  20.09393  19.861454  20.274745  19.873195\n"
     ]
    },
    {
     "data": {
      "image/png": "[encoded data removed]",
      "text/plain": [
       "<Figure size 800x600 with 1 Axes>"
      ]
     },
     "metadata": {},
     "output_type": "display_data"
    }
   ],
   "source": [
    "show_group_info(ctr_data)"
   ]
  },
  {
   "cell_type": "markdown",
   "metadata": {},
   "source": [
    "### 2.2 Clickhouse method"
   ]
  },
  {
   "cell_type": "code",
   "execution_count": 10,
   "metadata": {},
   "outputs": [
    {
     "data": {
      "text/html": [
       "<div>\n",
       "<style scoped>\n",
       "    .dataframe tbody tr th:only-of-type {\n",
       "        vertical-align: middle;\n",
       "    }\n",
       "\n",
       "    .dataframe tbody tr th {\n",
       "        vertical-align: top;\n",
       "    }\n",
       "\n",
       "    .dataframe thead th {\n",
       "        text-align: right;\n",
       "    }\n",
       "</style>\n",
       "<table border=\"1\" class=\"dataframe\">\n",
       "  <thead>\n",
       "    <tr style=\"text-align: right;\">\n",
       "      <th></th>\n",
       "      <th>user_id</th>\n",
       "      <th>ctr</th>\n",
       "      <th>exp_group</th>\n",
       "    </tr>\n",
       "  </thead>\n",
       "  <tbody>\n",
       "    <tr>\n",
       "      <th>0</th>\n",
       "      <td>13289</td>\n",
       "      <td>0.127273</td>\n",
       "      <td>3</td>\n",
       "    </tr>\n",
       "    <tr>\n",
       "      <th>1</th>\n",
       "      <td>121096</td>\n",
       "      <td>0.287129</td>\n",
       "      <td>4</td>\n",
       "    </tr>\n",
       "    <tr>\n",
       "      <th>2</th>\n",
       "      <td>5090</td>\n",
       "      <td>0.378788</td>\n",
       "      <td>2</td>\n",
       "    </tr>\n",
       "    <tr>\n",
       "      <th>3</th>\n",
       "      <td>129283</td>\n",
       "      <td>0.117647</td>\n",
       "      <td>0</td>\n",
       "    </tr>\n",
       "    <tr>\n",
       "      <th>4</th>\n",
       "      <td>129995</td>\n",
       "      <td>0.236842</td>\n",
       "      <td>1</td>\n",
       "    </tr>\n",
       "  </tbody>\n",
       "</table>\n",
       "</div>"
      ],
      "text/plain": [
       "   user_id       ctr  exp_group\n",
       "0    13289  0.127273          3\n",
       "1   121096  0.287129          4\n",
       "2     5090  0.378788          2\n",
       "3   129283  0.117647          0\n",
       "4   129995  0.236842          1"
      ]
     },
     "execution_count": 10,
     "metadata": {},
     "output_type": "execute_result"
    }
   ],
   "source": [
    "# Get experimental groups right in the Clickhouse\n",
    "get_users_query = f\"\"\"\n",
    "SELECT\n",
    "    user_id,\n",
    "    countIf(action='like') / countIf(action='view') as ctr,\n",
    "    xxHash64(toString(user_id)||'my_salt') % 5 as exp_group -- Split on 5 groups\n",
    "FROM\n",
    "    simulator_20220820.feed_actions\n",
    "WHERE\n",
    "    toDate(time) between '{first_date}' and '{last_date}'\n",
    "GROUP BY\n",
    "    user_id\n",
    "\"\"\"\n",
    "\n",
    "ctr_data = ph.read_clickhouse(get_users_query, connection=connection)\n",
    "ctr_data.head()"
   ]
  },
  {
   "cell_type": "code",
   "execution_count": 11,
   "metadata": {},
   "outputs": [
    {
     "name": "stdout",
     "output_type": "stream",
     "text": [
      "\n",
      "[INFO] The experimental value counts group distribution:\n",
      "                   0          1          2          3          4\n",
      "exp_group  20.082189  19.950687  19.938946  20.098626  19.929553\n"
     ]
    },
    {
     "data": {
      "image/png": "[encoded data removed]",
      "text/plain": [
       "<Figure size 800x600 with 1 Axes>"
      ]
     },
     "metadata": {},
     "output_type": "display_data"
    }
   ],
   "source": [
    "show_group_info(ctr_data)"
   ]
  },
  {
   "cell_type": "markdown",
   "metadata": {},
   "source": [
    "### Summary:\n",
    "After splitting the data on experimental groups, we can see, that our data are almost identical. This means that our split system seems to be working fine."
   ]
  }
 ],
 "metadata": {
  "kernelspec": {
   "display_name": "Python 3.8.13 ('analyst')",
   "language": "python",
   "name": "python3"
  },
  "language_info": {
   "codemirror_mode": {
    "name": "ipython",
    "version": 3
   },
   "file_extension": ".py",
   "mimetype": "text/x-python",
   "name": "python",
   "nbconvert_exporter": "python",
   "pygments_lexer": "ipython3",
   "version": "3.8.13"
  },
  "orig_nbformat": 4,
  "vscode": {
   "interpreter": {
    "hash": "cde3739259c449444df1e6140825f6ec4cbc44e516f641a09a72a5f8b58883e0"
   }
  }
 },
 "nbformat": 4,
 "nbformat_minor": 2
}
